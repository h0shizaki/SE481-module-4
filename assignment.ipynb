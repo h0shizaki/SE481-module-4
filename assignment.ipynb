{
 "cells": [
  {
   "cell_type": "code",
   "execution_count": 1,
   "metadata": {},
   "outputs": [],
   "source": [
    "import util\n",
    "import os\n",
    "from nltk.corpus import stopwords\n",
    "import pandas as pd\n"
   ]
  },
  {
   "cell_type": "markdown",
   "metadata": {},
   "source": [
    "### Spell Correction\n",
    "Mispelled word: agie  \n",
    "Insertion: age  \n",
    "Subtition: adie  \n",
    "Subtition: amie  \n",
    "Deletion: agile  \n",
    "Deletion: augie  "
   ]
  },
  {
   "cell_type": "code",
   "execution_count": 2,
   "metadata": {},
   "outputs": [],
   "source": [
    "topdir = 'resource/iula'\n",
    "all_content = []\n",
    "for dirpath, dirnames, filename in os.walk(topdir) :\n",
    "    for name in filename :\n",
    "        if name.endswith('plain.txt'):\n",
    "            with open(os.path.join(dirpath, name)) as f :\n",
    "                all_content.append(f.read())\n",
    "\n",
    "\n",
    "all_content = pd.Series(all_content)"
   ]
  },
  {
   "cell_type": "code",
   "execution_count": 3,
   "metadata": {},
   "outputs": [],
   "source": [
    "stem_cache = util.create_stem_cache(all_content)\n",
    "stop_dict = set(stopwords.words('English'))\n",
    "my_custom_processor = util.create_custom_preprocessor(stop_dict, stem_cache)"
   ]
  },
  {
   "cell_type": "code",
   "execution_count": 4,
   "metadata": {},
   "outputs": [],
   "source": [
    "processed_content = [my_custom_processor(s) for s in all_content]"
   ]
  },
  {
   "cell_type": "code",
   "execution_count": 5,
   "metadata": {},
   "outputs": [
    {
     "data": {
      "text/plain": [
       "00            13\n",
       "000          234\n",
       "0000           2\n",
       "00000000       2\n",
       "000030         3\n",
       "            ... \n",
       "única          2\n",
       "únicament      1\n",
       "úniqu          1\n",
       "útil           2\n",
       "überbau        1\n",
       "Length: 25710, dtype: int64"
      ]
     },
     "execution_count": 5,
     "metadata": {},
     "output_type": "execute_result"
    }
   ],
   "source": [
    "from sklearn.feature_extraction.text import CountVectorizer, TfidfVectorizer\n",
    "vectorizer = CountVectorizer()\n",
    "vectorizer.fit(processed_content)\n",
    "freq_iula = vectorizer.transform(processed_content)\n",
    "freq_iula = pd.DataFrame(freq_iula.todense(), columns=vectorizer.get_feature_names_out()).sum()\n",
    "freq_iula"
   ]
  },
  {
   "cell_type": "code",
   "execution_count": 6,
   "metadata": {},
   "outputs": [
    {
     "data": {
      "text/plain": [
       "age      90\n",
       "adie      0\n",
       "amie      0\n",
       "agile     0\n",
       "augie     0\n",
       "dtype: int64"
      ]
     },
     "execution_count": 6,
     "metadata": {},
     "output_type": "execute_result"
    }
   ],
   "source": [
    "query = ['age', 'adie', 'amie', 'agile', 'augie']\n",
    "transformed_query = [vectorizer.inverse_transform(vectorizer.transform([q])) for q in query]\n",
    "query_freq = pd.Series([freq_iula.T.loc[tq[0]].values[0] if len(tq[0]) > 0 else 0 for tq in transformed_query], index= query)\n",
    "query_freq"
   ]
  },
  {
   "cell_type": "code",
   "execution_count": 7,
   "metadata": {},
   "outputs": [
    {
     "data": {
      "text/html": [
       "<div>\n",
       "<style scoped>\n",
       "    .dataframe tbody tr th:only-of-type {\n",
       "        vertical-align: middle;\n",
       "    }\n",
       "\n",
       "    .dataframe tbody tr th {\n",
       "        vertical-align: top;\n",
       "    }\n",
       "\n",
       "    .dataframe thead th {\n",
       "        text-align: right;\n",
       "    }\n",
       "</style>\n",
       "<table border=\"1\" class=\"dataframe\">\n",
       "  <thead>\n",
       "    <tr style=\"text-align: right;\">\n",
       "      <th></th>\n",
       "      <th>frequency</th>\n",
       "      <th>P(w)</th>\n",
       "      <th>rank</th>\n",
       "    </tr>\n",
       "  </thead>\n",
       "  <tbody>\n",
       "    <tr>\n",
       "      <th>age</th>\n",
       "      <td>90</td>\n",
       "      <td>0.703125</td>\n",
       "      <td>1</td>\n",
       "    </tr>\n",
       "    <tr>\n",
       "      <th>adie</th>\n",
       "      <td>0</td>\n",
       "      <td>0.000000</td>\n",
       "      <td>3</td>\n",
       "    </tr>\n",
       "    <tr>\n",
       "      <th>amie</th>\n",
       "      <td>0</td>\n",
       "      <td>0.000000</td>\n",
       "      <td>3</td>\n",
       "    </tr>\n",
       "    <tr>\n",
       "      <th>agile</th>\n",
       "      <td>0</td>\n",
       "      <td>0.000000</td>\n",
       "      <td>3</td>\n",
       "    </tr>\n",
       "    <tr>\n",
       "      <th>augie</th>\n",
       "      <td>0</td>\n",
       "      <td>0.000000</td>\n",
       "      <td>3</td>\n",
       "    </tr>\n",
       "  </tbody>\n",
       "</table>\n",
       "</div>"
      ],
      "text/plain": [
       "       frequency      P(w)  rank\n",
       "age           90  0.703125     1\n",
       "adie           0  0.000000     3\n",
       "amie           0  0.000000     3\n",
       "agile          0  0.000000     3\n",
       "augie          0  0.000000     3"
      ]
     },
     "execution_count": 7,
     "metadata": {},
     "output_type": "execute_result"
    }
   ],
   "source": [
    "# IULA Corpus\n",
    "IULA = pd.DataFrame(query_freq, columns=['frequency'])\n",
    "IULA_pop = len(processed_content)\n",
    "IULA['P(w)'] = IULA['frequency']/IULA_pop\n",
    "IULA['rank'] = IULA['frequency'].rank(ascending=False).astype(int)\n",
    "IULA"
   ]
  },
  {
   "cell_type": "code",
   "execution_count": 8,
   "metadata": {},
   "outputs": [
    {
     "data": {
      "text/html": [
       "<div>\n",
       "<style scoped>\n",
       "    .dataframe tbody tr th:only-of-type {\n",
       "        vertical-align: middle;\n",
       "    }\n",
       "\n",
       "    .dataframe tbody tr th {\n",
       "        vertical-align: top;\n",
       "    }\n",
       "\n",
       "    .dataframe thead th {\n",
       "        text-align: right;\n",
       "    }\n",
       "</style>\n",
       "<table border=\"1\" class=\"dataframe\">\n",
       "  <thead>\n",
       "    <tr style=\"text-align: right;\">\n",
       "      <th></th>\n",
       "      <th>word</th>\n",
       "      <th>frequency</th>\n",
       "      <th>P(w)</th>\n",
       "      <th>rank</th>\n",
       "    </tr>\n",
       "  </thead>\n",
       "  <tbody>\n",
       "    <tr>\n",
       "      <th>0</th>\n",
       "      <td>age</td>\n",
       "      <td>202733</td>\n",
       "      <td>2.024069e-04</td>\n",
       "      <td>1</td>\n",
       "    </tr>\n",
       "    <tr>\n",
       "      <th>1</th>\n",
       "      <td>adie</td>\n",
       "      <td>135</td>\n",
       "      <td>1.347829e-07</td>\n",
       "      <td>5</td>\n",
       "    </tr>\n",
       "    <tr>\n",
       "      <th>2</th>\n",
       "      <td>amie</td>\n",
       "      <td>236</td>\n",
       "      <td>2.356204e-07</td>\n",
       "      <td>4</td>\n",
       "    </tr>\n",
       "    <tr>\n",
       "      <th>3</th>\n",
       "      <td>agile</td>\n",
       "      <td>2446</td>\n",
       "      <td>2.442066e-06</td>\n",
       "      <td>2</td>\n",
       "    </tr>\n",
       "    <tr>\n",
       "      <th>4</th>\n",
       "      <td>augie</td>\n",
       "      <td>566</td>\n",
       "      <td>5.650897e-07</td>\n",
       "      <td>3</td>\n",
       "    </tr>\n",
       "  </tbody>\n",
       "</table>\n",
       "</div>"
      ],
      "text/plain": [
       "    word  frequency          P(w)  rank\n",
       "0    age     202733  2.024069e-04     1\n",
       "1   adie        135  1.347829e-07     5\n",
       "2   amie        236  2.356204e-07     4\n",
       "3  agile       2446  2.442066e-06     2\n",
       "4  augie        566  5.650897e-07     3"
      ]
     },
     "execution_count": 8,
     "metadata": {},
     "output_type": "execute_result"
    }
   ],
   "source": [
    "# COCA Corpus\n",
    "COCA = pd.DataFrame([ ['age',202733],['adie',135], ['amie',236],['agile',2446] , ['augie',566]], columns=['word','frequency'])\n",
    "COCA_pop = 1001610938\n",
    "COCA['P(w)'] = COCA['frequency']/COCA_pop\n",
    "COCA['rank'] = COCA['frequency'].rank(ascending=False).astype(int)\n",
    "COCA"
   ]
  },
  {
   "cell_type": "markdown",
   "metadata": {},
   "source": [
    "# Adding P(X|W) from norvig"
   ]
  },
  {
   "cell_type": "code",
   "execution_count": 9,
   "metadata": {},
   "outputs": [
    {
     "data": {
      "text/html": [
       "<div>\n",
       "<style scoped>\n",
       "    .dataframe tbody tr th:only-of-type {\n",
       "        vertical-align: middle;\n",
       "    }\n",
       "\n",
       "    .dataframe tbody tr th {\n",
       "        vertical-align: top;\n",
       "    }\n",
       "\n",
       "    .dataframe thead th {\n",
       "        text-align: right;\n",
       "    }\n",
       "</style>\n",
       "<table border=\"1\" class=\"dataframe\">\n",
       "  <thead>\n",
       "    <tr style=\"text-align: right;\">\n",
       "      <th></th>\n",
       "      <th>term</th>\n",
       "      <th>freq</th>\n",
       "    </tr>\n",
       "  </thead>\n",
       "  <tbody>\n",
       "    <tr>\n",
       "      <th>0</th>\n",
       "      <td>a</td>\n",
       "      <td>21160</td>\n",
       "    </tr>\n",
       "    <tr>\n",
       "      <th>1</th>\n",
       "      <td>aah</td>\n",
       "      <td>1</td>\n",
       "    </tr>\n",
       "    <tr>\n",
       "      <th>2</th>\n",
       "      <td>aaron</td>\n",
       "      <td>5</td>\n",
       "    </tr>\n",
       "    <tr>\n",
       "      <th>3</th>\n",
       "      <td>ab</td>\n",
       "      <td>2</td>\n",
       "    </tr>\n",
       "    <tr>\n",
       "      <th>4</th>\n",
       "      <td>aback</td>\n",
       "      <td>3</td>\n",
       "    </tr>\n",
       "  </tbody>\n",
       "</table>\n",
       "</div>"
      ],
      "text/plain": [
       "    term   freq\n",
       "0      a  21160\n",
       "1    aah      1\n",
       "2  aaron      5\n",
       "3     ab      2\n",
       "4  aback      3"
      ]
     },
     "execution_count": 9,
     "metadata": {},
     "output_type": "execute_result"
    }
   ],
   "source": [
    "norvig_orig = pd.read_csv('https://norvig.com/ngrams/count_big.txt',sep='\\t' , encoding=\"ISO-8859-1\", header=None)\n",
    "norvig_orig = norvig_orig.dropna()\n",
    "norvig_orig.columns = ['term', 'freq']\n",
    "norvig_orig.head()"
   ]
  },
  {
   "cell_type": "code",
   "execution_count": 10,
   "metadata": {},
   "outputs": [
    {
     "data": {
      "text/html": [
       "<div>\n",
       "<style scoped>\n",
       "    .dataframe tbody tr th:only-of-type {\n",
       "        vertical-align: middle;\n",
       "    }\n",
       "\n",
       "    .dataframe tbody tr th {\n",
       "        vertical-align: top;\n",
       "    }\n",
       "\n",
       "    .dataframe thead th {\n",
       "        text-align: right;\n",
       "    }\n",
       "</style>\n",
       "<table border=\"1\" class=\"dataframe\">\n",
       "  <thead>\n",
       "    <tr style=\"text-align: right;\">\n",
       "      <th></th>\n",
       "      <th>edit</th>\n",
       "    </tr>\n",
       "    <tr>\n",
       "      <th>term</th>\n",
       "      <th></th>\n",
       "    </tr>\n",
       "  </thead>\n",
       "  <tbody>\n",
       "    <tr>\n",
       "      <th>e|i</th>\n",
       "      <td>917</td>\n",
       "    </tr>\n",
       "    <tr>\n",
       "      <th>a|e</th>\n",
       "      <td>856</td>\n",
       "    </tr>\n",
       "    <tr>\n",
       "      <th>i|e</th>\n",
       "      <td>771</td>\n",
       "    </tr>\n",
       "    <tr>\n",
       "      <th>e|a</th>\n",
       "      <td>749</td>\n",
       "    </tr>\n",
       "    <tr>\n",
       "      <th>a|i</th>\n",
       "      <td>559</td>\n",
       "    </tr>\n",
       "  </tbody>\n",
       "</table>\n",
       "</div>"
      ],
      "text/plain": [
       "      edit\n",
       "term      \n",
       "e|i    917\n",
       "a|e    856\n",
       "i|e    771\n",
       "e|a    749\n",
       "a|i    559"
      ]
     },
     "execution_count": 10,
     "metadata": {},
     "output_type": "execute_result"
    }
   ],
   "source": [
    "norvig = pd.read_csv('https://norvig.com/ngrams/count_1edit.txt',sep='\\t' ,encoding=\"ISO-8859-1\", header=None)\n",
    "norvig.columns= ['term', 'edit']\n",
    "norvig = norvig.set_index('term')\n",
    "norvig.head()"
   ]
  },
  {
   "cell_type": "code",
   "execution_count": 11,
   "metadata": {},
   "outputs": [],
   "source": [
    "def get_count(c, norvig_orig):\n",
    "    return norvig_orig.apply(lambda x: x.term.count(c) * x.freq, axis=1).sum()"
   ]
  },
  {
   "cell_type": "code",
   "execution_count": 12,
   "metadata": {},
   "outputs": [],
   "source": [
    "import itertools\n",
    "from string import ascii_lowercase\n",
    "\n",
    "character_set = list(map(''.join, itertools.product(ascii_lowercase, repeat=1))) + list(map(''.join, itertools.product(ascii_lowercase, repeat=2)))"
   ]
  },
  {
   "cell_type": "code",
   "execution_count": 13,
   "metadata": {},
   "outputs": [
    {
     "data": {
      "text/html": [
       "<div>\n",
       "<style scoped>\n",
       "    .dataframe tbody tr th:only-of-type {\n",
       "        vertical-align: middle;\n",
       "    }\n",
       "\n",
       "    .dataframe tbody tr th {\n",
       "        vertical-align: top;\n",
       "    }\n",
       "\n",
       "    .dataframe thead th {\n",
       "        text-align: right;\n",
       "    }\n",
       "</style>\n",
       "<table border=\"1\" class=\"dataframe\">\n",
       "  <thead>\n",
       "    <tr style=\"text-align: right;\">\n",
       "      <th></th>\n",
       "      <th>freq</th>\n",
       "    </tr>\n",
       "    <tr>\n",
       "      <th>char</th>\n",
       "      <th></th>\n",
       "    </tr>\n",
       "  </thead>\n",
       "  <tbody>\n",
       "    <tr>\n",
       "      <th>a</th>\n",
       "      <td>407349</td>\n",
       "    </tr>\n",
       "    <tr>\n",
       "      <th>b</th>\n",
       "      <td>73161</td>\n",
       "    </tr>\n",
       "    <tr>\n",
       "      <th>c</th>\n",
       "      <td>144964</td>\n",
       "    </tr>\n",
       "    <tr>\n",
       "      <th>d</th>\n",
       "      <td>215698</td>\n",
       "    </tr>\n",
       "    <tr>\n",
       "      <th>e</th>\n",
       "      <td>632999</td>\n",
       "    </tr>\n",
       "  </tbody>\n",
       "</table>\n",
       "</div>"
      ],
      "text/plain": [
       "        freq\n",
       "char        \n",
       "a     407349\n",
       "b      73161\n",
       "c     144964\n",
       "d     215698\n",
       "e     632999"
      ]
     },
     "execution_count": 13,
     "metadata": {},
     "output_type": "execute_result"
    }
   ],
   "source": [
    "from multiprocessing.pool import ThreadPool\n",
    "\n",
    "pool = ThreadPool(8)\n",
    "freq_list = pool.starmap(get_count, zip(character_set, itertools.repeat(norvig_orig)))\n",
    "\n",
    "freq_df = pd.DataFrame([character_set, freq_list], index=['char', 'freq']).T\n",
    "freq_df = freq_df.set_index('char')\n",
    "freq_df.head()"
   ]
  },
  {
   "cell_type": "code",
   "execution_count": 14,
   "metadata": {},
   "outputs": [
    {
     "data": {
      "text/html": [
       "<div>\n",
       "<style scoped>\n",
       "    .dataframe tbody tr th:only-of-type {\n",
       "        vertical-align: middle;\n",
       "    }\n",
       "\n",
       "    .dataframe tbody tr th {\n",
       "        vertical-align: top;\n",
       "    }\n",
       "\n",
       "    .dataframe thead th {\n",
       "        text-align: right;\n",
       "    }\n",
       "</style>\n",
       "<table border=\"1\" class=\"dataframe\">\n",
       "  <thead>\n",
       "    <tr style=\"text-align: right;\">\n",
       "      <th></th>\n",
       "      <th>frequency</th>\n",
       "      <th>P(w)</th>\n",
       "      <th>rank</th>\n",
       "      <th>P(x|w)</th>\n",
       "      <th>10^9 * P(x|w)P(w)</th>\n",
       "    </tr>\n",
       "  </thead>\n",
       "  <tbody>\n",
       "    <tr>\n",
       "      <th>age</th>\n",
       "      <td>90</td>\n",
       "      <td>0.703125</td>\n",
       "      <td>1</td>\n",
       "      <td>0.000000</td>\n",
       "      <td>0.0</td>\n",
       "    </tr>\n",
       "    <tr>\n",
       "      <th>adie</th>\n",
       "      <td>0</td>\n",
       "      <td>0.000000</td>\n",
       "      <td>3</td>\n",
       "      <td>0.000111</td>\n",
       "      <td>0.0</td>\n",
       "    </tr>\n",
       "    <tr>\n",
       "      <th>amie</th>\n",
       "      <td>0</td>\n",
       "      <td>0.000000</td>\n",
       "      <td>3</td>\n",
       "      <td>0.000039</td>\n",
       "      <td>0.0</td>\n",
       "    </tr>\n",
       "    <tr>\n",
       "      <th>agile</th>\n",
       "      <td>0</td>\n",
       "      <td>0.000000</td>\n",
       "      <td>3</td>\n",
       "      <td>0.003682</td>\n",
       "      <td>0.0</td>\n",
       "    </tr>\n",
       "    <tr>\n",
       "      <th>augie</th>\n",
       "      <td>0</td>\n",
       "      <td>0.000000</td>\n",
       "      <td>3</td>\n",
       "      <td>0.020867</td>\n",
       "      <td>0.0</td>\n",
       "    </tr>\n",
       "  </tbody>\n",
       "</table>\n",
       "</div>"
      ],
      "text/plain": [
       "       frequency      P(w)  rank    P(x|w)  10^9 * P(x|w)P(w)\n",
       "age           90  0.703125     1  0.000000                0.0\n",
       "adie           0  0.000000     3  0.000111                0.0\n",
       "amie           0  0.000000     3  0.000039                0.0\n",
       "agile          0  0.000000     3  0.003682                0.0\n",
       "augie          0  0.000000     3  0.020867                0.0"
      ]
     },
     "execution_count": 14,
     "metadata": {},
     "output_type": "execute_result"
    }
   ],
   "source": [
    "IULA['P(x|w)'] = [\n",
    "    (0 / freq_df.loc['i'].values)[0],\n",
    "    (norvig.loc['g|d'].values / freq_df.loc['d'].values)[0],\n",
    "    (norvig.loc['g|m'].values / freq_df.loc['m'].values)[0],\n",
    "    (norvig.loc['i|il'].values / freq_df.loc['il'].values)[0],\n",
    "    (norvig.loc['a|au'].values / freq_df.loc['au'].values)[0]\n",
    "]\n",
    "IULA['10^9 * P(x|w)P(w)'] = 1e9 * IULA['P(w)'] * IULA['P(x|w)']\n",
    "IULA"
   ]
  },
  {
   "cell_type": "code",
   "execution_count": 15,
   "metadata": {},
   "outputs": [
    {
     "data": {
      "text/html": [
       "<div>\n",
       "<style scoped>\n",
       "    .dataframe tbody tr th:only-of-type {\n",
       "        vertical-align: middle;\n",
       "    }\n",
       "\n",
       "    .dataframe tbody tr th {\n",
       "        vertical-align: top;\n",
       "    }\n",
       "\n",
       "    .dataframe thead th {\n",
       "        text-align: right;\n",
       "    }\n",
       "</style>\n",
       "<table border=\"1\" class=\"dataframe\">\n",
       "  <thead>\n",
       "    <tr style=\"text-align: right;\">\n",
       "      <th></th>\n",
       "      <th>word</th>\n",
       "      <th>frequency</th>\n",
       "      <th>P(w)</th>\n",
       "      <th>rank</th>\n",
       "      <th>P(x|w)</th>\n",
       "      <th>10^9 * P(x|w)P(w)</th>\n",
       "    </tr>\n",
       "  </thead>\n",
       "  <tbody>\n",
       "    <tr>\n",
       "      <th>0</th>\n",
       "      <td>age</td>\n",
       "      <td>202733</td>\n",
       "      <td>2.024069e-04</td>\n",
       "      <td>1</td>\n",
       "      <td>0.000000</td>\n",
       "      <td>0.000000</td>\n",
       "    </tr>\n",
       "    <tr>\n",
       "      <th>1</th>\n",
       "      <td>adie</td>\n",
       "      <td>135</td>\n",
       "      <td>1.347829e-07</td>\n",
       "      <td>5</td>\n",
       "      <td>0.000111</td>\n",
       "      <td>0.014997</td>\n",
       "    </tr>\n",
       "    <tr>\n",
       "      <th>2</th>\n",
       "      <td>amie</td>\n",
       "      <td>236</td>\n",
       "      <td>2.356204e-07</td>\n",
       "      <td>4</td>\n",
       "      <td>0.000039</td>\n",
       "      <td>0.009272</td>\n",
       "    </tr>\n",
       "    <tr>\n",
       "      <th>3</th>\n",
       "      <td>agile</td>\n",
       "      <td>2446</td>\n",
       "      <td>2.442066e-06</td>\n",
       "      <td>2</td>\n",
       "      <td>0.003682</td>\n",
       "      <td>8.992818</td>\n",
       "    </tr>\n",
       "    <tr>\n",
       "      <th>4</th>\n",
       "      <td>augie</td>\n",
       "      <td>566</td>\n",
       "      <td>5.650897e-07</td>\n",
       "      <td>3</td>\n",
       "      <td>0.020867</td>\n",
       "      <td>11.791809</td>\n",
       "    </tr>\n",
       "  </tbody>\n",
       "</table>\n",
       "</div>"
      ],
      "text/plain": [
       "    word  frequency          P(w)  rank    P(x|w)  10^9 * P(x|w)P(w)\n",
       "0    age     202733  2.024069e-04     1  0.000000           0.000000\n",
       "1   adie        135  1.347829e-07     5  0.000111           0.014997\n",
       "2   amie        236  2.356204e-07     4  0.000039           0.009272\n",
       "3  agile       2446  2.442066e-06     2  0.003682           8.992818\n",
       "4  augie        566  5.650897e-07     3  0.020867          11.791809"
      ]
     },
     "execution_count": 15,
     "metadata": {},
     "output_type": "execute_result"
    }
   ],
   "source": [
    "COCA['P(x|w)'] = [\n",
    "    (0 / freq_df.loc['i'].values)[0],\n",
    "    (norvig.loc['g|d'].values / freq_df.loc['d'].values)[0],\n",
    "    (norvig.loc['g|m'].values / freq_df.loc['m'].values)[0],\n",
    "    (norvig.loc['i|il'].values / freq_df.loc['il'].values)[0],\n",
    "    (norvig.loc['a|au'].values / freq_df.loc['au'].values)[0]\n",
    "]\n",
    "\n",
    "COCA['10^9 * P(x|w)P(w)'] = 1e9 * COCA['P(w)'] * COCA['P(x|w)']\n",
    "COCA"
   ]
  }
 ],
 "metadata": {
  "kernelspec": {
   "display_name": "base",
   "language": "python",
   "name": "python3"
  },
  "language_info": {
   "codemirror_mode": {
    "name": "ipython",
    "version": 3
   },
   "file_extension": ".py",
   "mimetype": "text/x-python",
   "name": "python",
   "nbconvert_exporter": "python",
   "pygments_lexer": "ipython3",
   "version": "3.11.5"
  }
 },
 "nbformat": 4,
 "nbformat_minor": 2
}
