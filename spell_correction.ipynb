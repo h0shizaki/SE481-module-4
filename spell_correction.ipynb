{
 "cells": [
  {
   "cell_type": "code",
   "execution_count": 29,
   "metadata": {},
   "outputs": [],
   "source": [
    "import util\n",
    "import os\n",
    "from nltk.corpus import stopwords\n",
    "import pandas as pd\n"
   ]
  },
  {
   "cell_type": "code",
   "execution_count": 30,
   "metadata": {},
   "outputs": [],
   "source": [
    "topdir = 'resource/iula'\n",
    "all_content = []\n",
    "for dirpath, dirnames, filename in os.walk(topdir) :\n",
    "    for name in filename :\n",
    "        if name.endswith('plain.txt'):\n",
    "            with open(os.path.join(dirpath, name)) as f :\n",
    "                all_content.append(f.read())\n",
    "\n",
    "\n",
    "all_content = pd.Series(all_content)\n",
    "# processed_content = [util.preprocess(s , stop_dict, stem_cache) for s in all_content]"
   ]
  },
  {
   "cell_type": "code",
   "execution_count": 31,
   "metadata": {},
   "outputs": [],
   "source": [
    "stem_cache = util.create_stem_cache(all_content)\n",
    "stop_dict = set(stopwords.words('English'))\n",
    "my_custom_processor = util.create_custom_preprocessor(stop_dict, stem_cache)"
   ]
  },
  {
   "cell_type": "code",
   "execution_count": 32,
   "metadata": {},
   "outputs": [],
   "source": [
    "processed_content = [my_custom_processor(s) for s in all_content]"
   ]
  },
  {
   "cell_type": "code",
   "execution_count": 33,
   "metadata": {},
   "outputs": [
    {
     "data": {
      "text/plain": [
       "aaa             1\n",
       "aaaaaa          1\n",
       "aalborg         2\n",
       "aarhu           1\n",
       "aaron           3\n",
       "               ..\n",
       "zuckerkandl     1\n",
       "zurich          4\n",
       "zvi             1\n",
       "zygos           1\n",
       "zygot          10\n",
       "Length: 22529, dtype: int64"
      ]
     },
     "execution_count": 33,
     "metadata": {},
     "output_type": "execute_result"
    }
   ],
   "source": [
    "from sklearn.feature_extraction.text import CountVectorizer, TfidfVectorizer\n",
    "vectorizer = CountVectorizer()\n",
    "vectorizer.fit(processed_content)\n",
    "freq_iula = vectorizer.transform(processed_content)\n",
    "freq_iula = pd.DataFrame(freq_iula.todense(), columns=vectorizer.get_feature_names_out()).sum()\n",
    "freq_iula"
   ]
  },
  {
   "cell_type": "code",
   "execution_count": 34,
   "metadata": {},
   "outputs": [
    {
     "data": {
      "text/plain": [
       "deet       0\n",
       "deft       0\n",
       "defer      5\n",
       "defect    79\n",
       "defeat     9\n",
       "dtype: int64"
      ]
     },
     "execution_count": 34,
     "metadata": {},
     "output_type": "execute_result"
    }
   ],
   "source": [
    "query = ['deet', 'deft', 'defer', 'defect', 'defeat']\n",
    "transformed_query = [vectorizer.inverse_transform(vectorizer.transform([q])) for q in query]\n",
    "query_freq = pd.Series([freq_iula.T.loc[tq[0]].values[0] if len(tq[0]) > 0 else 0 for tq in transformed_query], index= query)\n",
    "query_freq"
   ]
  },
  {
   "cell_type": "code",
   "execution_count": 35,
   "metadata": {},
   "outputs": [],
   "source": [
    "IULA = pd.DataFrame(query_freq, columns=['frequency'])\n",
    "IULA_pop = len(processed_content)\n",
    "IULA['P(w)'] = IULA['frequency']/IULA_pop\n",
    "IULA['rank'] = IULA['frequency'].rank(ascending=False).astype(int)"
   ]
  },
  {
   "cell_type": "markdown",
   "metadata": {},
   "source": [
    "# Adding P(X|W) from norvig"
   ]
  },
  {
   "cell_type": "code",
   "execution_count": 36,
   "metadata": {},
   "outputs": [
    {
     "data": {
      "text/html": [
       "<div>\n",
       "<style scoped>\n",
       "    .dataframe tbody tr th:only-of-type {\n",
       "        vertical-align: middle;\n",
       "    }\n",
       "\n",
       "    .dataframe tbody tr th {\n",
       "        vertical-align: top;\n",
       "    }\n",
       "\n",
       "    .dataframe thead th {\n",
       "        text-align: right;\n",
       "    }\n",
       "</style>\n",
       "<table border=\"1\" class=\"dataframe\">\n",
       "  <thead>\n",
       "    <tr style=\"text-align: right;\">\n",
       "      <th></th>\n",
       "      <th>term</th>\n",
       "      <th>freq</th>\n",
       "    </tr>\n",
       "  </thead>\n",
       "  <tbody>\n",
       "    <tr>\n",
       "      <th>0</th>\n",
       "      <td>a</td>\n",
       "      <td>21160</td>\n",
       "    </tr>\n",
       "    <tr>\n",
       "      <th>1</th>\n",
       "      <td>aah</td>\n",
       "      <td>1</td>\n",
       "    </tr>\n",
       "    <tr>\n",
       "      <th>2</th>\n",
       "      <td>aaron</td>\n",
       "      <td>5</td>\n",
       "    </tr>\n",
       "    <tr>\n",
       "      <th>3</th>\n",
       "      <td>ab</td>\n",
       "      <td>2</td>\n",
       "    </tr>\n",
       "    <tr>\n",
       "      <th>4</th>\n",
       "      <td>aback</td>\n",
       "      <td>3</td>\n",
       "    </tr>\n",
       "  </tbody>\n",
       "</table>\n",
       "</div>"
      ],
      "text/plain": [
       "    term   freq\n",
       "0      a  21160\n",
       "1    aah      1\n",
       "2  aaron      5\n",
       "3     ab      2\n",
       "4  aback      3"
      ]
     },
     "execution_count": 36,
     "metadata": {},
     "output_type": "execute_result"
    }
   ],
   "source": [
    "norvig_orig = pd.read_csv('https://norvig.com/ngrams/count_big.txt',sep='\\t' , encoding=\"ISO-8859-1\", header=None)\n",
    "norvig_orig = norvig_orig.dropna()\n",
    "norvig_orig.columns = ['term', 'freq']\n",
    "norvig_orig.head()"
   ]
  },
  {
   "cell_type": "code",
   "execution_count": 37,
   "metadata": {},
   "outputs": [
    {
     "data": {
      "text/html": [
       "<div>\n",
       "<style scoped>\n",
       "    .dataframe tbody tr th:only-of-type {\n",
       "        vertical-align: middle;\n",
       "    }\n",
       "\n",
       "    .dataframe tbody tr th {\n",
       "        vertical-align: top;\n",
       "    }\n",
       "\n",
       "    .dataframe thead th {\n",
       "        text-align: right;\n",
       "    }\n",
       "</style>\n",
       "<table border=\"1\" class=\"dataframe\">\n",
       "  <thead>\n",
       "    <tr style=\"text-align: right;\">\n",
       "      <th></th>\n",
       "      <th>edit</th>\n",
       "    </tr>\n",
       "    <tr>\n",
       "      <th>term</th>\n",
       "      <th></th>\n",
       "    </tr>\n",
       "  </thead>\n",
       "  <tbody>\n",
       "    <tr>\n",
       "      <th>e|i</th>\n",
       "      <td>917</td>\n",
       "    </tr>\n",
       "    <tr>\n",
       "      <th>a|e</th>\n",
       "      <td>856</td>\n",
       "    </tr>\n",
       "    <tr>\n",
       "      <th>i|e</th>\n",
       "      <td>771</td>\n",
       "    </tr>\n",
       "    <tr>\n",
       "      <th>e|a</th>\n",
       "      <td>749</td>\n",
       "    </tr>\n",
       "    <tr>\n",
       "      <th>a|i</th>\n",
       "      <td>559</td>\n",
       "    </tr>\n",
       "  </tbody>\n",
       "</table>\n",
       "</div>"
      ],
      "text/plain": [
       "      edit\n",
       "term      \n",
       "e|i    917\n",
       "a|e    856\n",
       "i|e    771\n",
       "e|a    749\n",
       "a|i    559"
      ]
     },
     "execution_count": 37,
     "metadata": {},
     "output_type": "execute_result"
    }
   ],
   "source": [
    "norvig = pd.read_csv('https://norvig.com/ngrams/count_1edit.txt',sep='\\t' ,encoding=\"ISO-8859-1\", header=None)\n",
    "norvig.columns= ['term', 'edit']\n",
    "norvig = norvig.set_index('term')\n",
    "norvig.head()"
   ]
  },
  {
   "cell_type": "code",
   "execution_count": 38,
   "metadata": {},
   "outputs": [],
   "source": [
    "def get_count(c, norvig_orig):\n",
    "    return norvig_orig.apply(lambda x: x.term.count(c) * x.freq, axis=1).sum()"
   ]
  },
  {
   "cell_type": "code",
   "execution_count": 39,
   "metadata": {},
   "outputs": [],
   "source": [
    "import itertools\n",
    "from string import ascii_lowercase\n",
    "\n",
    "character_set = list(map(''.join, itertools.product(ascii_lowercase, repeat=1))) + list(map(''.join, itertools.product(ascii_lowercase, repeat=2)))"
   ]
  },
  {
   "cell_type": "code",
   "execution_count": 40,
   "metadata": {},
   "outputs": [
    {
     "data": {
      "text/html": [
       "<div>\n",
       "<style scoped>\n",
       "    .dataframe tbody tr th:only-of-type {\n",
       "        vertical-align: middle;\n",
       "    }\n",
       "\n",
       "    .dataframe tbody tr th {\n",
       "        vertical-align: top;\n",
       "    }\n",
       "\n",
       "    .dataframe thead th {\n",
       "        text-align: right;\n",
       "    }\n",
       "</style>\n",
       "<table border=\"1\" class=\"dataframe\">\n",
       "  <thead>\n",
       "    <tr style=\"text-align: right;\">\n",
       "      <th></th>\n",
       "      <th>freq</th>\n",
       "    </tr>\n",
       "    <tr>\n",
       "      <th>char</th>\n",
       "      <th></th>\n",
       "    </tr>\n",
       "  </thead>\n",
       "  <tbody>\n",
       "    <tr>\n",
       "      <th>a</th>\n",
       "      <td>407349</td>\n",
       "    </tr>\n",
       "    <tr>\n",
       "      <th>b</th>\n",
       "      <td>73161</td>\n",
       "    </tr>\n",
       "    <tr>\n",
       "      <th>c</th>\n",
       "      <td>144964</td>\n",
       "    </tr>\n",
       "    <tr>\n",
       "      <th>d</th>\n",
       "      <td>215698</td>\n",
       "    </tr>\n",
       "    <tr>\n",
       "      <th>e</th>\n",
       "      <td>632999</td>\n",
       "    </tr>\n",
       "    <tr>\n",
       "      <th>...</th>\n",
       "      <td>...</td>\n",
       "    </tr>\n",
       "    <tr>\n",
       "      <th>zv</th>\n",
       "      <td>1</td>\n",
       "    </tr>\n",
       "    <tr>\n",
       "      <th>zw</th>\n",
       "      <td>1</td>\n",
       "    </tr>\n",
       "    <tr>\n",
       "      <th>zx</th>\n",
       "      <td>0</td>\n",
       "    </tr>\n",
       "    <tr>\n",
       "      <th>zy</th>\n",
       "      <td>32</td>\n",
       "    </tr>\n",
       "    <tr>\n",
       "      <th>zz</th>\n",
       "      <td>83</td>\n",
       "    </tr>\n",
       "  </tbody>\n",
       "</table>\n",
       "<p>702 rows × 1 columns</p>\n",
       "</div>"
      ],
      "text/plain": [
       "        freq\n",
       "char        \n",
       "a     407349\n",
       "b      73161\n",
       "c     144964\n",
       "d     215698\n",
       "e     632999\n",
       "...      ...\n",
       "zv         1\n",
       "zw         1\n",
       "zx         0\n",
       "zy        32\n",
       "zz        83\n",
       "\n",
       "[702 rows x 1 columns]"
      ]
     },
     "execution_count": 40,
     "metadata": {},
     "output_type": "execute_result"
    }
   ],
   "source": [
    "from multiprocessing.pool import ThreadPool\n",
    "\n",
    "pool = ThreadPool(8)\n",
    "freq_list = pool.starmap(get_count, zip(character_set, itertools.repeat(norvig_orig)))\n",
    "\n",
    "freq_df = pd.DataFrame([character_set, freq_list], index=['char', 'freq']).T\n",
    "freq_df = freq_df.set_index('char')\n",
    "freq_df"
   ]
  },
  {
   "cell_type": "code",
   "execution_count": 41,
   "metadata": {},
   "outputs": [
    {
     "data": {
      "text/html": [
       "<div>\n",
       "<style scoped>\n",
       "    .dataframe tbody tr th:only-of-type {\n",
       "        vertical-align: middle;\n",
       "    }\n",
       "\n",
       "    .dataframe tbody tr th {\n",
       "        vertical-align: top;\n",
       "    }\n",
       "\n",
       "    .dataframe thead th {\n",
       "        text-align: right;\n",
       "    }\n",
       "</style>\n",
       "<table border=\"1\" class=\"dataframe\">\n",
       "  <thead>\n",
       "    <tr style=\"text-align: right;\">\n",
       "      <th></th>\n",
       "      <th>frequency</th>\n",
       "      <th>P(w)</th>\n",
       "      <th>rank</th>\n",
       "      <th>P(x|w)</th>\n",
       "      <th>10^9 * P(x|w)P(w)</th>\n",
       "    </tr>\n",
       "  </thead>\n",
       "  <tbody>\n",
       "    <tr>\n",
       "      <th>deet</th>\n",
       "      <td>0</td>\n",
       "      <td>0.000000</td>\n",
       "      <td>4</td>\n",
       "      <td>0.000000</td>\n",
       "      <td>0.000000e+00</td>\n",
       "    </tr>\n",
       "    <tr>\n",
       "      <th>deft</th>\n",
       "      <td>0</td>\n",
       "      <td>0.000000</td>\n",
       "      <td>4</td>\n",
       "      <td>0.000003</td>\n",
       "      <td>0.000000e+00</td>\n",
       "    </tr>\n",
       "    <tr>\n",
       "      <th>defer</th>\n",
       "      <td>5</td>\n",
       "      <td>0.039062</td>\n",
       "      <td>3</td>\n",
       "      <td>0.000036</td>\n",
       "      <td>1.388126e+03</td>\n",
       "    </tr>\n",
       "    <tr>\n",
       "      <th>defect</th>\n",
       "      <td>79</td>\n",
       "      <td>0.617188</td>\n",
       "      <td>1</td>\n",
       "      <td>0.012834</td>\n",
       "      <td>7.920979e+06</td>\n",
       "    </tr>\n",
       "    <tr>\n",
       "      <th>defeat</th>\n",
       "      <td>9</td>\n",
       "      <td>0.070312</td>\n",
       "      <td>2</td>\n",
       "      <td>0.003167</td>\n",
       "      <td>2.226728e+05</td>\n",
       "    </tr>\n",
       "  </tbody>\n",
       "</table>\n",
       "</div>"
      ],
      "text/plain": [
       "        frequency      P(w)  rank    P(x|w)  10^9 * P(x|w)P(w)\n",
       "deet            0  0.000000     4  0.000000       0.000000e+00\n",
       "deft            0  0.000000     4  0.000003       0.000000e+00\n",
       "defer           5  0.039062     3  0.000036       1.388126e+03\n",
       "defect         79  0.617188     1  0.012834       7.920979e+06\n",
       "defeat          9  0.070312     2  0.003167       2.226728e+05"
      ]
     },
     "execution_count": 41,
     "metadata": {},
     "output_type": "execute_result"
    }
   ],
   "source": [
    "COCA = IULA\n",
    "COCA['P(x|w)'] = [\n",
    "    (0 / freq_df.loc['f'].values)[0],\n",
    "    (norvig.loc['e| '].values / freq_df.loc['e'].values)[0],\n",
    "    (norvig.loc['t|r'].values / freq_df.loc['r'].values)[0],\n",
    "    (norvig.loc['e|ea'].values / freq_df.loc['ea'].values)[0],\n",
    "    (norvig.loc['e|ec'].values / freq_df.loc['ec'].values)[0],\n",
    "]\n",
    "\n",
    "COCA['10^9 * P(x|w)P(w)'] = 1e9 * COCA['P(w)'] * COCA['P(x|w)']\n",
    "COCA"
   ]
  }
 ],
 "metadata": {
  "kernelspec": {
   "display_name": "base",
   "language": "python",
   "name": "python3"
  },
  "language_info": {
   "codemirror_mode": {
    "name": "ipython",
    "version": 3
   },
   "file_extension": ".py",
   "mimetype": "text/x-python",
   "name": "python",
   "nbconvert_exporter": "python",
   "pygments_lexer": "ipython3",
   "version": "3.11.5"
  }
 },
 "nbformat": 4,
 "nbformat_minor": 2
}
